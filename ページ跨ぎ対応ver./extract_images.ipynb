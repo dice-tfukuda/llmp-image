{
 "cells": [
  {
   "cell_type": "code",
   "execution_count": 4,
   "id": "5ebf16f7-ecc4-489e-ae49-6d9290a2d592",
   "metadata": {
    "tags": []
   },
   "outputs": [
    {
     "name": "stdout",
     "output_type": "stream",
     "text": [
      "[NbConvertApp] Converting notebook extract_images.ipynb to python\n",
      "[NbConvertApp] Writing 3002 bytes to extract_images.py\n"
     ]
    }
   ],
   "source": [
    "# コード更新用ファイル　\n",
    "# 下記コードを実行するとextract_image.pyファイルが更新される\n",
    "!jupyter nbconvert --to python extract_images.ipynb"
   ]
  },
  {
   "cell_type": "code",
   "execution_count": 17,
   "id": "9536cd4d-3b3a-46a5-970d-cf263ec65263",
   "metadata": {
    "tags": []
   },
   "outputs": [],
   "source": [
    "import os\n",
    "import fitz\n",
    "import pandas as pd"
   ]
  },
  {
   "cell_type": "code",
   "execution_count": 2,
   "id": "5e708f9e-8ca7-4036-872e-8b9bca0f3410",
   "metadata": {
    "tags": []
   },
   "outputs": [],
   "source": [
    "\n",
    "def extract_images(input_folder, csv_filename, output_root_folder):\n",
    "    \"\"\"\n",
    "    指定したフォルダ内の複数のPDFファイルから画像を保存し、画像と座標をデータフレームに保存する関数。\n",
    "\n",
    "    Args:\n",
    "        input_folder (str): PDFファイルが格納されているフォルダへのパス。\n",
    "        csv_filename (str): 出力CSVファイルのパス。\n",
    "        output_root_folder (str): 画像を保存するルートフォルダへのパス。\n",
    "    \"\"\"\n",
    "    # データフレームのためのリストを初期化\n",
    "    data = []\n",
    "    \n",
    "    os.makedirs(output_root_folder, exist_ok=True)\n",
    "\n",
    "    pdf_files = [os.path.join(input_folder, filename) for filename in os.listdir(input_folder) if filename.endswith('.pdf')]\n",
    "\n",
    "    for pdf_file in pdf_files:\n",
    "        pdf_document = fitz.open(pdf_file)\n",
    "        pdf_filename = os.path.basename(pdf_file)\n",
    "        \n",
    "        # PDF毎に画像保存用フォルダの作成\n",
    "        pdf_name_without_extension = os.path.splitext(pdf_filename)[0]\n",
    "        output_folder = os.path.join(output_root_folder, pdf_name_without_extension)\n",
    "        os.makedirs(output_folder, exist_ok=True)\n",
    "        \n",
    "        # PDFの縦の長さを取得\n",
    "        pdf_height = pdf_document[0].rect.height\n",
    "\n",
    "        for page_number in range(len(pdf_document)):\n",
    "            page = pdf_document[page_number]\n",
    "\n",
    "            image_infos = page.get_image_info(xrefs=True)  # 画像の情報を取得\n",
    "\n",
    "            for img_index, img_info in enumerate(image_infos):\n",
    "                # 位置情報の取得\n",
    "                x0, y0, x1, y1 = img_info['bbox']\n",
    "\n",
    "                # y座標にページ数×PDFの縦の長さを加算\n",
    "                y0 += page_number * pdf_height\n",
    "                y1 += page_number * pdf_height\n",
    "\n",
    "                # 画像を抽出して保存\n",
    "                xref = img_info['xref']\n",
    "                base_image = pdf_document.extract_image(xref)\n",
    "                if base_image:\n",
    "                    image_data = base_image['image']\n",
    "                else:\n",
    "                    pass # 画像が正しく取得できなかった場合のエラーハンドリングまたはスキップ処理を行うことができます。\n",
    "\n",
    "                image_filename = f\"{pdf_name_without_extension}_page{page_number + 1}_img{img_index}.png\"\n",
    "                image_path = os.path.join(output_folder, image_filename)\n",
    "\n",
    "                with open(image_path, 'wb') as image_file:\n",
    "                    image_file.write(image_data)\n",
    "\n",
    "                # データフレームに情報を追加\n",
    "                data.append({\n",
    "                    'PDFファイル': pdf_filename,\n",
    "                    'ページ番号': page_number + 1,\n",
    "                    '画像ファイル': image_filename,\n",
    "                    'x0': x0,\n",
    "                    'y0': y0,\n",
    "                    'x1': x1,\n",
    "                    'y1': y1 \n",
    "                })\n",
    "\n",
    "        pdf_document.close()\n",
    "\n",
    "    # データフレームに情報を格納\n",
    "    df = pd.DataFrame(data)\n",
    "\n",
    "    # データフレームをCSVファイルとして保存\n",
    "    df.to_csv(csv_filename, index=False)\n",
    "    return df\n"
   ]
  },
  {
   "cell_type": "code",
   "execution_count": 19,
   "id": "0c1d4583-87a6-4e76-b51c-fe00da660173",
   "metadata": {
    "tags": []
   },
   "outputs": [],
   "source": [
    "if __name__ == \"__main__\":\n",
    "    input_folder = '../sample-pdf'\n",
    "    csv_filename = 'image_info.csv'\n",
    "    output_root_folder = \"output-images\"\n",
    "    df = extract_images(input_folder, csv_filename, output_root_folder)"
   ]
  },
  {
   "cell_type": "code",
   "execution_count": null,
   "id": "72a4f887-65f6-46bb-924b-19fa2cde3248",
   "metadata": {},
   "outputs": [],
   "source": []
  }
 ],
 "metadata": {
  "kernelspec": {
   "display_name": "Python 3 (ipykernel)",
   "language": "python",
   "name": "python3"
  },
  "language_info": {
   "codemirror_mode": {
    "name": "ipython",
    "version": 3
   },
   "file_extension": ".py",
   "mimetype": "text/x-python",
   "name": "python",
   "nbconvert_exporter": "python",
   "pygments_lexer": "ipython3",
   "version": "3.11.4"
  }
 },
 "nbformat": 4,
 "nbformat_minor": 5
}
