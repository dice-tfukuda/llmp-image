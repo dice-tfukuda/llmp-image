{
 "cells": [
  {
   "cell_type": "code",
   "execution_count": 6,
   "id": "beeead99-04da-4a1d-8e4e-74911e8220b7",
   "metadata": {
    "tags": []
   },
   "outputs": [],
   "source": [
    "# コード更新用ファイル　\n",
    "# 下記コードを実行するとextract_figure.pyファイルが更新される\n",
    "!jupyter nbconvert --to python extract_figure.ipynb"
   ]
  },
  {
   "cell_type": "code",
   "execution_count": 1,
   "id": "9060fe7f-e071-453f-9443-20705e394280",
   "metadata": {
    "tags": []
   },
   "outputs": [],
   "source": [
    "import os\n",
    "import fitz\n",
    "import re\n",
    "import pandas as pd"
   ]
  },
  {
   "cell_type": "code",
   "execution_count": 2,
   "id": "dd8c864a-32bd-4282-a30f-64030691fb14",
   "metadata": {
    "tags": []
   },
   "outputs": [],
   "source": [
    "def extract_figure(pdf_folder, pattern, csv_filename):\n",
    "    \"\"\"\n",
    "    フォルダ内の複数のPDFファイルから図番号とその座標を抽出し、データフレームに格納する関数。\n",
    "\n",
    "    Args:\n",
    "        pdf_folder (str): PDFファイルが格納されているフォルダのパス。\n",
    "        pattern (str): 図番号の正規表現パターン。\n",
    "        csv_filename (str): 出力csvファイルのパス\n",
    "\n",
    "    \"\"\"\n",
    "    # データフレームのためのリストを初期化\n",
    "    data = []\n",
    "\n",
    "    # フォルダ内のPDFファイルのリストを取得\n",
    "    pdf_files = [os.path.join(pdf_folder, filename) for filename in os.listdir(pdf_folder) if filename.endswith('.pdf')]\n",
    "\n",
    "    for pdf_file in pdf_files:\n",
    "        pdf_document = fitz.open(pdf_file)\n",
    "\n",
    "        for page_number in range(len(pdf_document)):\n",
    "            page = pdf_document[page_number]\n",
    "            pdf_text = page.get_text()\n",
    "            blocks = page.get_text(\"blocks\")\n",
    "\n",
    "            for block in blocks:\n",
    "                text = block[4]  # テキスト部分を取得\n",
    "                match = re.search(pattern, text)\n",
    "                if match:\n",
    "                        x0, y0, x1, y1 = block[:4]  # ブロックの座標を取得\n",
    "\n",
    "                        # マッチした部分の開始・終了位置を取得\n",
    "                        start_pos = match.start()\n",
    "                        end_pos = match.end()\n",
    "\n",
    "                        # 開始・終了位置の座標を調整\n",
    "                        x0 = x0 + start_pos  # これは簡易的な方法であり、実際には適切な位置を計算する必要がある\n",
    "                        x1 = x0 + end_pos    # 同上\n",
    "\n",
    "                        print(f\"Matched text: {match.group()} at coordinates: ({x0}, {y0}), ({x1}, {y1})\")\n",
    "\n",
    "                        data.append({\n",
    "                            'PDFファイル': os.path.basename(pdf_file),\n",
    "                            'ページ番号': page_number + 1,\n",
    "                            '図番号': match.group(),\n",
    "                            'x0': x0,\n",
    "                            'y0': y0,\n",
    "                            'x1': x1,\n",
    "                            'y1': y1\n",
    "                        })\n",
    "\n",
    "        pdf_document.close()\n",
    "\n",
    "    # データフレームに情報を格納\n",
    "    df = pd.DataFrame(data)\n",
    "    \n",
    "    # データフレームをCSVファイルとして保存\n",
    "    df.to_csv(csv_filename, index=False)\n",
    "\n",
    "    return df\n"
   ]
  },
  {
   "cell_type": "code",
   "execution_count": 3,
   "id": "0c06aceb-94d2-4173-a6cd-a77b9249553c",
   "metadata": {
    "tags": []
   },
   "outputs": [
    {
     "name": "stdout",
     "output_type": "stream",
     "text": [
      "Matched text: 【図 1-1】 at coordinates: (84.95994567871094, 339.4860534667969), (91.95994567871094, 351.6526794433594)\n",
      "Matched text: 【図 1-2】 at coordinates: (84.95994567871094, 282.8460693359375), (91.95994567871094, 295.0126953125)\n",
      "Matched text: 【図 1-3】 at coordinates: (84.95994567871094, 169.3260498046875), (91.95994567871094, 181.49269104003906)\n",
      "Matched text: 【図 1-4】 at coordinates: (84.95994567871094, 339.4860534667969), (91.95994567871094, 351.6526794433594)\n",
      "Matched text: 【図 1-5】 at coordinates: (84.95994567871094, 569.4060668945312), (91.95994567871094, 581.57275390625)\n",
      "Matched text: 【図 1-6】 at coordinates: (84.95994567871094, 368.52606201171875), (91.95994567871094, 380.69268798828125)\n",
      "Matched text: 【図 1-7】 at coordinates: (84.95994567871094, 188.2860565185547), (91.95994567871094, 200.45269775390625)\n",
      "Matched text: 【図 1-8】 at coordinates: (84.95994567871094, 387.2460632324219), (91.95994567871094, 399.4126892089844)\n",
      "Matched text: 【図 2-1】 at coordinates: (84.95994567871094, 259.93072509765625), (91.95994567871094, 271.0393981933594)\n",
      "Matched text: 【図 2-2】 at coordinates: (84.95994567871094, 269.0507507324219), (91.95994567871094, 280.159423828125)\n",
      "Matched text: 【図 2-3】 at coordinates: (84.95994567871094, 351.8507385253906), (91.95994567871094, 362.95941162109375)\n",
      "Matched text: 【図 2-4】 at coordinates: (84.95994567871094, 310.3307189941406), (91.95994567871094, 321.43939208984375)\n",
      "Matched text: 【図 3-1】 at coordinates: (84.95994567871094, 120.54840087890625), (91.95994567871094, 132.18606567382812)\n",
      "Matched text: 【図 3-2】 at coordinates: (460.5259094238281, 300.54840087890625), (467.5259094238281, 312.1860656738281)\n",
      "Matched text: 【図 3-3】 at coordinates: (272.7429504394531, 462.54840087890625), (279.7429504394531, 474.1860656738281)\n"
     ]
    }
   ],
   "source": [
    "# 使用例:\n",
    "if __name__ == \"__main__\":\n",
    "    pdf_folder = '../sample-pdf'  # PDFファイルが格納されているフォルダのパス\n",
    "    pattern = r\"【図 [0-9]+\\-[0-9]+】\"  # 図番号の正規表現パターン\n",
    "    figure_csv_filename = 'figure_info.csv'\n",
    "    result_df = extract_figure(pdf_folder, pattern, figure_csv_filename)\n"
   ]
  },
  {
   "cell_type": "code",
   "execution_count": null,
   "id": "910af713-9be8-4e98-a606-3c34b9f37d68",
   "metadata": {},
   "outputs": [],
   "source": []
  }
 ],
 "metadata": {
  "kernelspec": {
   "display_name": "Python 3 (ipykernel)",
   "language": "python",
   "name": "python3"
  },
  "language_info": {
   "codemirror_mode": {
    "name": "ipython",
    "version": 3
   },
   "file_extension": ".py",
   "mimetype": "text/x-python",
   "name": "python",
   "nbconvert_exporter": "python",
   "pygments_lexer": "ipython3",
   "version": "3.11.4"
  }
 },
 "nbformat": 4,
 "nbformat_minor": 5
}
