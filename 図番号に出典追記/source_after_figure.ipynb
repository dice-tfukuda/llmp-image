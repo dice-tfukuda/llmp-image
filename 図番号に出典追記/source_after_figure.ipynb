{
 "cells": [
  {
   "cell_type": "code",
   "execution_count": 81,
   "id": "f7876c96-97ed-49ec-905a-6cc972d20895",
   "metadata": {
    "tags": []
   },
   "outputs": [],
   "source": [
    "import fitz\n",
    "import os\n",
    "import re"
   ]
  },
  {
   "cell_type": "code",
   "execution_count": 160,
   "id": "a8619834-51a6-459f-9f74-620188bbecb6",
   "metadata": {
    "tags": []
   },
   "outputs": [],
   "source": [
    "def source_after_figure(pdf_folder, pdf_file, source, output_root_folder, pattern):\n",
    "    \"\"\"\n",
    "    PDFファイルの図番号の後に出典を追記し、新しいPDFファイルとして保存する\n",
    "    \n",
    "    Args:\n",
    "        pdf_folder (str): PDFが格納されたフォルダのパス\n",
    "        pdf_file (str): PDFファイルのパス。\n",
    "        source (str): PDFファイルの出典。\n",
    "        output_root_folder (str): 新しいPDFファイルを保存するルートフォルダへのパス。\n",
    "        pattern (str): 図番号の正規表現パターン\n",
    "    \"\"\"\n",
    "    # 既存のPDFファイルを開く\n",
    "    pdf_document = fitz.open(os.path.join(pdf_folder, pdf_file))\n",
    "\n",
    "    # 出典テキスト\n",
    "    text_to_add = f\"【出典: {source}】\"\n",
    "\n",
    "    # 各ページを処理\n",
    "    for page_number in range(len(pdf_document)):\n",
    "        page = pdf_document[page_number]\n",
    "        pdf_text = page.get_text()\n",
    "        blocks = page.get_text(\"blocks\")\n",
    "\n",
    "        for block in blocks:\n",
    "            text = block[4]  # テキスト部分を取得\n",
    "            match = re.search(pattern, text)\n",
    "            if match:\n",
    "                    x0, y0, x1, y1 = block[:4]  # ブロックの座標を取得\n",
    "\n",
    "                    # マッチした部分の開始・終了位置を取得\n",
    "                    start_pos = match.start()\n",
    "                    end_pos = match.end()\n",
    "\n",
    "                    # 開始・終了位置の座標を調整\n",
    "                    x0 = x0 + start_pos  # これは簡易的な方法であり、実際には適切な位置を計算する必要がある\n",
    "                    x1 = x0 + end_pos    # 同上\n",
    "\n",
    "                    # ページにテキストを追加(座標、微調整してます)\n",
    "                    if x0 <= 200:\n",
    "                        page.insert_text((x1 + 35, y1 -5), text_to_add, fontname=\"japan\", fontsize=8)\n",
    "                    else:\n",
    "                        page.insert_text((200, y1 + 8), text_to_add, fontname=\"japan\", fontsize=8)\n",
    "\n",
    "    # PDFを保存\n",
    "    os.makedirs(output_root_folder, exist_ok=True)\n",
    "    output_pdf_file = os.path.join(output_root_folder, pdf_file)\n",
    "    pdf_document.save(output_pdf_file)\n",
    "\n",
    "    # ファイルを閉じる\n",
    "    pdf_document.close()\n"
   ]
  },
  {
   "cell_type": "code",
   "execution_count": 161,
   "id": "0c927574-521f-4bed-a7c6-8a7cfd8ce989",
   "metadata": {
    "tags": []
   },
   "outputs": [],
   "source": [
    "# sample1.pdfに追記\n",
    "if __name__ == \"__main__\":\n",
    "    pdf_folder = \"../sample-pdf/\"\n",
    "    pdf_file =\"sample1.pdf\"\n",
    "    source = \"sample太郎(2019) 『サンプル本』 サンプル出版社\"\n",
    "    output_root_folder = \"sample_with_source\"\n",
    "    pattern = r\"【図 [0-9]+\\-[0-9]+】\"\n",
    "    source_after_figure(pdf_folder ,pdf_file, source, output_root_folder, pattern)"
   ]
  },
  {
   "cell_type": "code",
   "execution_count": 162,
   "id": "0dbb5737-3600-4f93-803c-2c4a223c4d92",
   "metadata": {
    "tags": []
   },
   "outputs": [],
   "source": [
    "# sample2.pdfに追記\n",
    "if __name__ == \"__main__\":\n",
    "    pdf_folder = \"../sample-pdf/\"\n",
    "    pdf_file =\"sample2.pdf\"\n",
    "    source = \"sample花子(2020) 『にっこり本』 花畑出版社\"\n",
    "    output_root_folder = \"sample_with_source\"\n",
    "    pattern = r\"【図 [0-9]+\\-[0-9]+】\"\n",
    "    source_after_figure(pdf_folder ,pdf_file, source, output_root_folder, pattern)"
   ]
  },
  {
   "cell_type": "code",
   "execution_count": 163,
   "id": "0a656708-f7ce-4808-a9e7-874a68561d42",
   "metadata": {
    "tags": []
   },
   "outputs": [],
   "source": [
    "# sample3.pdfに追記\n",
    "if __name__ == \"__main__\":\n",
    "    pdf_folder = \"../sample-pdf/\"\n",
    "    pdf_file =\"sample3.pdf\"\n",
    "    source = \"sample花子(2020) 『にっこり本』 花畑出版社\"\n",
    "    output_root_folder = \"sample_with_source\"\n",
    "    pattern = r\"【図 [0-9]+\\-[0-9]+】\"\n",
    "    source_after_figure(pdf_folder ,pdf_file, source, output_root_folder, pattern)"
   ]
  },
  {
   "cell_type": "code",
   "execution_count": 164,
   "id": "ed97658f-60b2-47b5-ac0c-50506e4e638e",
   "metadata": {
    "tags": []
   },
   "outputs": [],
   "source": [
    "# sample4.pdfに追記\n",
    "if __name__ == \"__main__\":\n",
    "    pdf_folder = \"../sample-pdf/\"\n",
    "    pdf_file =\"sample4.pdf\"\n",
    "    source = \"sample花子(2020) 『にっこり本』 花畑出版社\"\n",
    "    output_root_folder = \"sample_with_source\"\n",
    "    # pattern = r\"【図 [0-9]+\\-[0-9]+】\"\n",
    "    pattern = r\"【図[0-9]+\\-[0-9]+\\-[0-9]+】\"\n",
    "    source_after_figure(pdf_folder ,pdf_file, source, output_root_folder, pattern)"
   ]
  },
  {
   "cell_type": "code",
   "execution_count": null,
   "id": "4f35098e-e1d6-42e5-b57d-5d8ec6d14ca9",
   "metadata": {},
   "outputs": [],
   "source": []
  },
  {
   "cell_type": "code",
   "execution_count": null,
   "id": "7c8d1db7-6472-4243-bf16-d2dcc8d1ffea",
   "metadata": {},
   "outputs": [],
   "source": []
  }
 ],
 "metadata": {
  "kernelspec": {
   "display_name": "Python 3 (ipykernel)",
   "language": "python",
   "name": "python3"
  },
  "language_info": {
   "codemirror_mode": {
    "name": "ipython",
    "version": 3
   },
   "file_extension": ".py",
   "mimetype": "text/x-python",
   "name": "python",
   "nbconvert_exporter": "python",
   "pygments_lexer": "ipython3",
   "version": "3.11.4"
  }
 },
 "nbformat": 4,
 "nbformat_minor": 5
}
