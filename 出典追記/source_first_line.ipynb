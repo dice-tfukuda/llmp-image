{
 "cells": [
  {
   "cell_type": "code",
   "execution_count": 1,
   "id": "f7876c96-97ed-49ec-905a-6cc972d20895",
   "metadata": {
    "tags": []
   },
   "outputs": [],
   "source": [
    "import fitz\n",
    "import os"
   ]
  },
  {
   "cell_type": "code",
   "execution_count": 2,
   "id": "d4cfab44-3e4f-41e6-bf4b-133352e55727",
   "metadata": {
    "tags": []
   },
   "outputs": [],
   "source": [
    "def source_first_line(pdf_folder, pdf_file, source, output_root_folder):\n",
    "    \"\"\"\n",
    "    指定したPDFファイルの1行目に出典を追記する\n",
    "    \n",
    "    Args:\n",
    "        pdf_folder (str): PDFが格納されたフォルダのパス\n",
    "        pdf_file (str): PDFファイルのパス。\n",
    "        source (str): PDFファイルの出典。\n",
    "        output_root_folder (str): 新しいPDFファイルを保存するルートフォルダへのパス。\n",
    "    \"\"\"\n",
    "    # 既存のPDFファイルを開く\n",
    "    pdf_document = fitz.open(pdf_folder + pdf_file)\n",
    "\n",
    "    # ページを選択（例：最初のページを選択）\n",
    "    page = pdf_document[0]\n",
    "\n",
    "    # テキストを追加する座標とテキストを指定\n",
    "    text_to_add = f\"【出典：　{source}】\"\n",
    "    x, y = 10, 10  # テキストの座標（左上）\n",
    "\n",
    "    # ページにテキストを追加\n",
    "    page.insert_text((x, y), text_to_add, fontname=\"japan\")\n",
    "\n",
    "    # PDFを保存\n",
    "    os.makedirs(output_root_folder, exist_ok=True)\n",
    "    output_pdf_file = os.path.join(output_root_folder, pdf_file)\n",
    "    pdf_document.save(output_pdf_file)\n",
    "\n",
    "    # ファイルを閉じる\n",
    "    pdf_document.close()\n"
   ]
  },
  {
   "cell_type": "code",
   "execution_count": 3,
   "id": "0c927574-521f-4bed-a7c6-8a7cfd8ce989",
   "metadata": {
    "tags": []
   },
   "outputs": [],
   "source": [
    "# sample1.pdfに追記\n",
    "if __name__ == \"__main__\":\n",
    "    pdf_folder = \"../sample-pdf/\"\n",
    "    pdf_file =\"sample1.pdf\"\n",
    "    source = \"sample太郎(2019) 『サンプル本』 サンプル出版社\"\n",
    "    output_root_folder = \"sample_with_source\"\n",
    "    source_first_line(pdf_folder ,pdf_file, source, output_root_folder)"
   ]
  },
  {
   "cell_type": "code",
   "execution_count": 4,
   "id": "0dbb5737-3600-4f93-803c-2c4a223c4d92",
   "metadata": {
    "tags": []
   },
   "outputs": [],
   "source": [
    "# sample2.pdfに追記\n",
    "if __name__ == \"__main__\":\n",
    "    pdf_folder = \"../sample-pdf/\"\n",
    "    pdf_file =\"sample2.pdf\"\n",
    "    source = \"sample花子(2020) 『にっこり本』 花畑出版社\"\n",
    "    output_root_folder = \"sample_with_source\"\n",
    "    source_first_line(pdf_folder ,pdf_file, source, output_root_folder)"
   ]
  },
  {
   "cell_type": "code",
   "execution_count": null,
   "id": "0a656708-f7ce-4808-a9e7-874a68561d42",
   "metadata": {},
   "outputs": [],
   "source": []
  }
 ],
 "metadata": {
  "kernelspec": {
   "display_name": "Python 3 (ipykernel)",
   "language": "python",
   "name": "python3"
  },
  "language_info": {
   "codemirror_mode": {
    "name": "ipython",
    "version": 3
   },
   "file_extension": ".py",
   "mimetype": "text/x-python",
   "name": "python",
   "nbconvert_exporter": "python",
   "pygments_lexer": "ipython3",
   "version": "3.11.4"
  }
 },
 "nbformat": 4,
 "nbformat_minor": 5
}
